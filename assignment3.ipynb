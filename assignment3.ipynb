{
 "cells": [
  {
   "cell_type": "markdown",
   "metadata": {},
   "source": [
    "# ASSIGNMENT - LISTS!\n",
    "## Exercise 1\n"
   ]
  },
  {
   "cell_type": "markdown",
   "metadata": {},
   "source": [
    "## Create two lists of strings:\n",
    "1. boys with 3 names of boys\n",
    "2. girls with 3 names of girls.\n",
    "\n"
   ]
  },
  {
   "cell_type": "code",
   "execution_count": 14,
   "metadata": {},
   "outputs": [
    {
     "name": "stdout",
     "output_type": "stream",
     "text": [
      "['Assaf', 'Michael', 'Uriah', 'Ophir', 'Orly', 'Emma']\n"
     ]
    }
   ],
   "source": [
    "boys_list = ['Assaf', 'Michael', 'Uriah']\n",
    "girls_list = ['Ophir', 'Orly', 'Emma']\n",
    "print(boys_list + girls_list)"
   ]
  },
  {
   "cell_type": "markdown",
   "metadata": {},
   "source": [
    "## Do the following with list methods:\n",
    "1. Use append() to add boys a 4th name at the end.\n",
    "2. Use insert() to add girls a 4th name at the beginning.\n",
    "3. Use pop() to remove from girls the last name and assign it to a variable called bride.\n",
    "4. Use pop() to remove from boys the first name and assign it to a variable called groom.\n",
    "5. Use remove() to remove the last name from boys.\n",
    "6. Can you do it without knowing the actual name of the last boy."
   ]
  },
  {
   "cell_type": "code",
   "execution_count": 15,
   "metadata": {},
   "outputs": [
    {
     "name": "stdout",
     "output_type": "stream",
     "text": [
      "['Assaf', 'Michael', 'Uriah', 'Simon']\n"
     ]
    }
   ],
   "source": [
    "boys_list.append('Simon')\n",
    "print(boys_list)"
   ]
  },
  {
   "cell_type": "code",
   "execution_count": 16,
   "metadata": {},
   "outputs": [
    {
     "name": "stdout",
     "output_type": "stream",
     "text": [
      "['Shir', 'Ophir', 'Orly', 'Emma']\n"
     ]
    }
   ],
   "source": [
    "girls_list.insert(0,'Shir')\n",
    "print(girls_list)"
   ]
  },
  {
   "cell_type": "code",
   "execution_count": 17,
   "metadata": {},
   "outputs": [
    {
     "name": "stdout",
     "output_type": "stream",
     "text": [
      "Emma\n"
     ]
    }
   ],
   "source": [
    "bride = girls_list.pop()\n",
    "print(bride)"
   ]
  },
  {
   "cell_type": "code",
   "execution_count": 18,
   "metadata": {},
   "outputs": [
    {
     "name": "stdout",
     "output_type": "stream",
     "text": [
      "Assaf\n"
     ]
    }
   ],
   "source": [
    "groom = boys_list.pop(0)\n",
    "print(groom)"
   ]
  },
  {
   "cell_type": "code",
   "execution_count": 19,
   "metadata": {},
   "outputs": [
    {
     "name": "stdout",
     "output_type": "stream",
     "text": [
      "['Michael', 'Uriah', 'Simon']\n",
      "['Michael', 'Uriah']\n"
     ]
    }
   ],
   "source": [
    "print(boys_list)\n",
    "boys_list.remove('Simon')\n",
    "print(boys_list)"
   ]
  },
  {
   "cell_type": "code",
   "execution_count": 21,
   "metadata": {},
   "outputs": [
    {
     "name": "stdout",
     "output_type": "stream",
     "text": [
      "['Michael', 'Uriah']\n",
      "['Uriah']\n"
     ]
    }
   ],
   "source": [
    "print(boys_list)\n",
    "del boys_list[-2]\n",
    "print(boys_list)"
   ]
  },
  {
   "cell_type": "code",
   "execution_count": null,
   "metadata": {
    "collapsed": true
   },
   "outputs": [],
   "source": [
    "## Create a new list called names, which is the concatenation of boys and girls."
   ]
  },
  {
   "cell_type": "code",
   "execution_count": 38,
   "metadata": {},
   "outputs": [
    {
     "name": "stdout",
     "output_type": "stream",
     "text": [
      "['Uriah', 'Shir', 'Ophir', 'Orly']\n"
     ]
    }
   ],
   "source": [
    "names = boys_list + girls_list\n",
    "print(new_list)"
   ]
  },
  {
   "cell_type": "markdown",
   "metadata": {},
   "source": [
    "## Why will extend() not do the job? \n",
    "extend will add one of list into the oster list and won't concatenated it'. \n",
    "The result of extend will be: [boys_list,[girls_list]] and not [boys_list,girls_list]\n"
   ]
  },
  {
   "cell_type": "markdown",
   "metadata": {
    "collapsed": true
   },
   "source": [
    "# Exercise 2\n",
    "Create three variables of type list representing three guys. Each list should be of the form [name (string), age (int), married (Boolean)]. Give the lists proper variable names.\n"
   ]
  },
  {
   "cell_type": "code",
   "execution_count": 137,
   "metadata": {},
   "outputs": [
    {
     "name": "stdout",
     "output_type": "stream",
     "text": [
      "['Assaf', 34, 'married', True]\n"
     ]
    }
   ],
   "source": [
    "my_brother = ['Assaf', 34, 'married', True]\n",
    "my_father = ['Michael', 60, 'married', True]\n",
    "my_dog = ['Thomas', 12, 'single', True]\n",
    "print(my_brother)"
   ]
  },
  {
   "cell_type": "markdown",
   "metadata": {},
   "source": [
    "Modify the age of one of the guys. Note that lists are mutable, so you can do that using direct assignment and there is no need to recreate the entire list."
   ]
  },
  {
   "cell_type": "code",
   "execution_count": 79,
   "metadata": {},
   "outputs": [
    {
     "name": "stdout",
     "output_type": "stream",
     "text": [
      "['Thomas', 14, 'single', True]\n"
     ]
    }
   ],
   "source": [
    "my_dog[1] = 14\n",
    "print(my_dog)"
   ]
  },
  {
   "cell_type": "markdown",
   "metadata": {},
   "source": [
    "Create a new list called guys, whose elements are the three lists you’ve created. Note that you've created a list of lists."
   ]
  },
  {
   "cell_type": "code",
   "execution_count": 80,
   "metadata": {},
   "outputs": [
    {
     "name": "stdout",
     "output_type": "stream",
     "text": [
      "['Assaf', 34, 'married', True, 'Michael', 60, 'married', True, 'Thomas', 14, 'single', True]\n"
     ]
    }
   ],
   "source": [
    "guys = my_brother + my_father + my_dog\n",
    "print(guys)"
   ]
  },
  {
   "cell_type": "markdown",
   "metadata": {},
   "source": [
    "Create a list for another \"guy\" and append it to guys."
   ]
  },
  {
   "cell_type": "code",
   "execution_count": 81,
   "metadata": {},
   "outputs": [
    {
     "name": "stdout",
     "output_type": "stream",
     "text": [
      "['Uriah', 0.08, 'single', True]\n",
      "['Assaf', 34, 'married', True, 'Michael', 60, 'married', True, 'Thomas', 14, 'single', True, 'Uriah', 0.08, 'single', True]\n"
     ]
    }
   ],
   "source": [
    "guy = ['Uriah', 0.08, 'single', True]\n",
    "print(guy)\n",
    "guys = guys + guy\n",
    "print(guys)"
   ]
  },
  {
   "cell_type": "markdown",
   "metadata": {},
   "source": [
    "Modify the age of one of the guys in guys. Again - remember that guys is mutable, so you can \"access\" its elements and \n",
    "modify them directly.\n"
   ]
  },
  {
   "cell_type": "code",
   "execution_count": 83,
   "metadata": {},
   "outputs": [
    {
     "name": "stdout",
     "output_type": "stream",
     "text": [
      "['Assaf', 34, 'married', True, 'Michael', 59, 'married', True, 'Thomas', 14, 'single', True, 'Uriah', 0.08, 'single', True]\n"
     ]
    }
   ],
   "source": [
    "guys[5]=59\n",
    "print(guys)"
   ]
  },
  {
   "cell_type": "markdown",
   "metadata": {},
   "source": [
    "Remove one of the elements of guys with two different methods:\n",
    "using pop()\n",
    "using remove()"
   ]
  },
  {
   "cell_type": "code",
   "execution_count": 85,
   "metadata": {},
   "outputs": [
    {
     "name": "stdout",
     "output_type": "stream",
     "text": [
      "['Assaf', 34, 'married', True, 'Michael', 59, 'married', True, 'Thomas', 14, 'Uriah', 0.08, 'single', True]\n",
      "['Assaf', 34, 'married', True, 'Michael', 59, 'married', True, 'Thomas', 14, 'Uriah', 'single', True]\n"
     ]
    }
   ],
   "source": [
    "guys.pop(10)\n",
    "print(guys)\n",
    "guys.remove(0.08)\n",
    "print(guys)\n",
    "\n"
   ]
  },
  {
   "cell_type": "markdown",
   "metadata": {
    "collapsed": true
   },
   "source": [
    "# Exercise 3\n",
    "Write a sentence (string) and assign it to a variable called sentence."
   ]
  },
  {
   "cell_type": "code",
   "execution_count": 148,
   "metadata": {
    "collapsed": true
   },
   "outputs": [],
   "source": [
    "sentence = 'I like Python better than Sql'"
   ]
  },
  {
   "cell_type": "markdown",
   "metadata": {},
   "source": [
    "Print your sentence, so that every word is printed in a new line."
   ]
  },
  {
   "cell_type": "code",
   "execution_count": 149,
   "metadata": {},
   "outputs": [
    {
     "name": "stdout",
     "output_type": "stream",
     "text": [
      "I\n",
      "like\n",
      "Python\n",
      "better\n",
      "than\n",
      "Sql\n"
     ]
    }
   ],
   "source": [
    "print('\\n'.join(sentence.split()))"
   ]
  },
  {
   "cell_type": "markdown",
   "metadata": {},
   "source": [
    "Count how many times the letter ‘m’ appears in sentence in two differnt ways:\n",
    "1. by using the string method count().\n",
    "2. without using the string method count()."
   ]
  },
  {
   "cell_type": "code",
   "execution_count": 162,
   "metadata": {},
   "outputs": [
    {
     "data": {
      "text/plain": [
       "4"
      ]
     },
     "execution_count": 162,
     "metadata": {},
     "output_type": "execute_result"
    }
   ],
   "source": [
    "sentence.count('t')"
   ]
  },
  {
   "cell_type": "code",
   "execution_count": 165,
   "metadata": {},
   "outputs": [
    {
     "name": "stdout",
     "output_type": "stream",
     "text": [
      "4\n"
     ]
    }
   ],
   "source": [
    "count = 0 \n",
    "for x in sentence:\n",
    "    if x == 't':\n",
    "        count += 1 \n",
    "\n",
    "print(count)\n",
    "\n",
    "\n"
   ]
  },
  {
   "cell_type": "code",
   "execution_count": null,
   "metadata": {
    "collapsed": true
   },
   "outputs": [],
   "source": []
  }
 ],
 "metadata": {
  "kernelspec": {
   "display_name": "Python 3",
   "language": "python",
   "name": "python3"
  },
  "language_info": {
   "codemirror_mode": {
    "name": "ipython",
    "version": 3
   },
   "file_extension": ".py",
   "mimetype": "text/x-python",
   "name": "python",
   "nbconvert_exporter": "python",
   "pygments_lexer": "ipython3",
   "version": "3.6.3"
  }
 },
 "nbformat": 4,
 "nbformat_minor": 2
}
